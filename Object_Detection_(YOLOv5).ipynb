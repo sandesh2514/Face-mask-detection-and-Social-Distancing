{
  "nbformat": 4,
  "nbformat_minor": 0,
  "metadata": {
    "colab": {
      "name": "Object Detection (YOLOv5)",
      "provenance": [],
      "collapsed_sections": [],
      "machine_shape": "hm"
    },
    "kernelspec": {
      "name": "python3",
      "display_name": "Python 3"
    },
    "language_info": {
      "name": "python"
    },
    "accelerator": "GPU"
  },
  "cells": [
    {
      "cell_type": "code",
      "metadata": {
        "id": "omp3Rp3OL6GH"
      },
      "source": [
        "!pip install onnx"
      ],
      "execution_count": null,
      "outputs": []
    },
    {
      "cell_type": "code",
      "metadata": {
        "id": "0EA2KXJPvW1m"
      },
      "source": [
        "!git clone https://github.com/ultralytics/yolov5  # clone repo\n",
        "%cd yolov5\n",
        "%pip install -qr requirements.txt  # install dependencies\n",
        "%pip install -q wandb"
      ],
      "execution_count": null,
      "outputs": []
    },
    {
      "cell_type": "code",
      "metadata": {
        "id": "QCnMo-Vbv20p"
      },
      "source": [
        "import wandb\n",
        "import torch\n",
        "from utils.plots import plot_results \n",
        "from IPython.display import Image, clear_output "
      ],
      "execution_count": null,
      "outputs": []
    },
    {
      "cell_type": "code",
      "metadata": {
        "id": "aRN-dLA8wg5b"
      },
      "source": [
        "clear_output()\n",
        "print(f\"Setup complete. Using torch {torch.__version__} ({torch.cuda.get_device_properties(0).name \\\n",
        "                                                          if torch.cuda.is_available() \\\n",
        "                                                          else 'CPU'})\")"
      ],
      "execution_count": null,
      "outputs": []
    },
    {
      "cell_type": "code",
      "metadata": {
        "id": "jUKu5qTpxsUu"
      },
      "source": [
        "# Tensorboard\n",
        "%load_ext tensorboard\n",
        "%tensorboard --logdir runs/train"
      ],
      "execution_count": null,
      "outputs": []
    },
    {
      "cell_type": "code",
      "metadata": {
        "id": "-lS62ALoyWba"
      },
      "source": [
        "# Visualize weights & Biases \n",
        "wandb.login()"
      ],
      "execution_count": null,
      "outputs": []
    },
    {
      "cell_type": "code",
      "metadata": {
        "id": "hbAV0qC2ypL3"
      },
      "source": [
        "# Train YOLOv5s on COCO128 for 5 epochs\n",
        "!python train.py --img 736 --batch 32 --epochs 300 --data coco128.yaml --weights yolov5m.pt --cache --device 0"
      ],
      "execution_count": null,
      "outputs": []
    },
    {
      "cell_type": "code",
      "metadata": {
        "id": "XjYUSOkmxCNI"
      },
      "source": [
        "!python export.py --weights /content/yolov5m.pt --img 736 --batch 1"
      ],
      "execution_count": null,
      "outputs": []
    },
    {
      "cell_type": "code",
      "metadata": {
        "id": "sIGSmn0HzhNi"
      },
      "source": [
        "# train batch 0 mosaics and labels\n",
        "Image(filename='runs/train/exp/train_batch0.jpg', height=600, width=800)  "
      ],
      "execution_count": null,
      "outputs": []
    },
    {
      "cell_type": "code",
      "metadata": {
        "id": "HkMrJz049VRR"
      },
      "source": [
        "# test batch 0 labels\n",
        "Image(filename='runs/train/exp/test_batch0_labels.jpg', height=600, width=800)  "
      ],
      "execution_count": null,
      "outputs": []
    },
    {
      "cell_type": "code",
      "metadata": {
        "id": "92N3c9p9-BM5"
      },
      "source": [
        "# plot all results*.txt as results.png\n",
        "plot_results(save_dir='runs/train/exp')  \n",
        "Image(filename='runs/train/exp/results.png', height=500, width=1000)"
      ],
      "execution_count": null,
      "outputs": []
    }
  ]
}