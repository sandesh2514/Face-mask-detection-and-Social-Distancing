{
  "nbformat": 4,
  "nbformat_minor": 0,
  "metadata": {
    "accelerator": "GPU",
    "colab": {
      "name": "Copy of Face Mask Detection",
      "provenance": [],
      "collapsed_sections": [],
      "machine_shape": "hm"
    },
    "kernelspec": {
      "display_name": "Python 3",
      "name": "python3"
    },
    "language_info": {
      "name": "python"
    }
  },
  "cells": [
    {
      "cell_type": "code",
      "metadata": {
        "id": "DRnirdIe-bKo"
      },
      "source": [
        "import os\n",
        "import warnings\n",
        "import numpy as np\n",
        "import seaborn as sns\n",
        "from imutils import paths\n",
        "from google.colab import drive    # Only required if working on Google Colab\n",
        "import matplotlib.pyplot as plt\n",
        "\n",
        "from sklearn.preprocessing import LabelEncoder\n",
        "from sklearn.model_selection import train_test_split\n",
        "from sklearn.metrics import classification_report, accuracy_score, roc_auc_score, multilabel_confusion_matrix\n",
        "\n",
        "from tensorflow import one_hot\n",
        "from tensorflow.keras.optimizers import Adam\n",
        "from tensorflow.keras.callbacks import EarlyStopping\n",
        "from tensorflow.keras.applications import MobileNetV2\n",
        "from tensorflow.keras.models import Model, load_model\n",
        "from tensorflow.keras.applications.mobilenet_v2 import preprocess_input\n",
        "from tensorflow.keras.layers import Input, Dense, Conv2D, Dropout, Flatten, AveragePooling2D\n",
        "from tensorflow.keras.preprocessing.image import load_img, img_to_array, array_to_img, ImageDataGenerator\n",
        "\n",
        "sns.set()\n",
        "warnings.filterwarnings(\"ignore\")\n",
        "os.environ['TF_CPP_MIN_LOG_LEVEL'] = '3' "
      ],
      "execution_count": null,
      "outputs": []
    },
    {
      "cell_type": "code",
      "metadata": {
        "id": "EN6YS-2vAG7A"
      },
      "source": [
        "drive.mount('/content/drive')    # Only required if working on Google Colab"
      ],
      "execution_count": null,
      "outputs": []
    },
    {
      "cell_type": "markdown",
      "metadata": {
        "id": "NyFArZlVUjtl"
      },
      "source": [
        "## UDFs"
      ]
    },
    {
      "cell_type": "code",
      "metadata": {
        "id": "2q4Ff9osUoDk"
      },
      "source": [
        "# Helper function to calculate ROC-AUC score using\n",
        "# one-vs-all method for each class and the average score\n",
        "def multiclass_roc_auc_score(actual_class, pred_class, average=\"macro\"):\n",
        "    unique_class = list(map(np.unique, actual_class))\n",
        "    roc_auc_dict = dict()\n",
        "    auc_sum = 0\n",
        "\n",
        "    for per_class in unique_class: \n",
        "        other_class = [x for x in unique_class if x != per_class]\n",
        "\n",
        "        new_actual_class = [0 if x in other_class else 1 for x in actual_class]\n",
        "        new_pred_class = [0 if x in other_class else 1 for x in pred_class]\n",
        "\n",
        "        roc_auc = roc_auc_score(new_actual_class, new_pred_class, average=average).round(4) * 100\n",
        "        roc_auc_dict[per_class[0]] = roc_auc\n",
        "        auc_sum += roc_auc\n",
        "      \n",
        "    roc_auc_dict['avg'] = auc_sum / len(unique_class)\n",
        "\n",
        "    return roc_auc_dict"
      ],
      "execution_count": null,
      "outputs": []
    },
    {
      "cell_type": "markdown",
      "metadata": {
        "id": "u90jOWnnle-c"
      },
      "source": [
        "## Data Cleaning & Pre-processing"
      ]
    },
    {
      "cell_type": "code",
      "metadata": {
        "id": "mTA3-Jzs-Qo0"
      },
      "source": [
        "# grab the list of images in our dataset directory, then initialize\n",
        "# the list of data (i.e., images) and class images\n",
        "train_path = \"/content/drive/MyDrive/Colab Data/Face Mask Dataset/train data\"\n",
        "trainImagePaths = list(paths.list_images(train_path))\n",
        "\n",
        "test_path = \"/content/drive/MyDrive/Colab Data/Face Mask Dataset/test data\"\n",
        "testImagePaths = list(paths.list_images(test_path))"
      ],
      "execution_count": null,
      "outputs": []
    },
    {
      "cell_type": "code",
      "metadata": {
        "id": "DbLhaipT7dGr"
      },
      "source": [
        "train_data = list()\n",
        "test_data = list()\n",
        "labels = list()\n",
        "\n",
        "# loop over the train image paths\n",
        "for imagePath in trainImagePaths:\n",
        "\n",
        "\t# extract the class label from the filename\n",
        "\tlabel = imagePath.split(os.path.sep)[-2]\n",
        "\n",
        "\t# load the input image (224x224) as grayscale\n",
        "\timage = load_img(imagePath, target_size=(224, 224), color_mode=\"grayscale\")\n",
        " \n",
        "  # convert the image to numpy array\n",
        "\timage = img_to_array(image)\n",
        " \n",
        "  # scale pixel values between -1 and 1\n",
        "\timage = preprocess_input(image)\n",
        "\n",
        "\t# update the train data and labels lists\n",
        "\ttrain_data.append(image)\n",
        "\tlabels.append(label)\n",
        " \n",
        "# loop over the test image paths\n",
        "for imagePath in testImagePaths:\n",
        "\n",
        "\t# load the input image (224x224) as grayscale\n",
        "\timage = load_img(imagePath, target_size=(224, 224), color_mode=\"grayscale\")\n",
        " \n",
        "  # convert the image to numpy array\n",
        "\timage = img_to_array(image)\n",
        " \n",
        "  # scale pixel values between -1 and 1\n",
        "\timage = preprocess_input(image)\n",
        "\n",
        "\t# update the data\n",
        "\ttest_data.append(image)"
      ],
      "execution_count": null,
      "outputs": []
    },
    {
      "cell_type": "code",
      "metadata": {
        "id": "4c6Hol41-HV4"
      },
      "source": [
        "# convert the data and labels to NumPy arrays\n",
        "train = np.array(train_data, dtype=\"float32\")\n",
        "test = np.array(test_data, dtype=\"float32\")\n",
        "labels = np.array(labels)"
      ],
      "execution_count": null,
      "outputs": []
    },
    {
      "cell_type": "code",
      "metadata": {
        "id": "yIBUETWj43l1"
      },
      "source": [
        "# save the numpy arrays to use them later\n",
        "np.save('/content/drive/MyDrive/Colab Data/Face Mask Dataset/numpy arrays/train data', train)\n",
        "np.save('/content/drive/MyDrive/Colab Data/Face Mask Dataset/numpy arrays/test data', test)\n",
        "np.save('/content/drive/MyDrive/Colab Data/Face Mask Dataset/numpy arrays/labels', labels)"
      ],
      "execution_count": null,
      "outputs": []
    },
    {
      "cell_type": "code",
      "metadata": {
        "id": "zC82_llw6szb"
      },
      "source": [
        "# load the numpy arrays\n",
        "train = np.load('/content/drive/MyDrive/Colab Data/Face Mask Dataset/numpy arrays/train data (grayscale).npy')\n",
        "test = np.load('/content/drive/MyDrive/Colab Data/Face Mask Dataset/numpy arrays/test data (grayscale).npy')\n",
        "labels = np.load('/content/drive/MyDrive/Colab Data/Face Mask Dataset/numpy arrays/labels.npy')"
      ],
      "execution_count": null,
      "outputs": []
    },
    {
      "cell_type": "code",
      "metadata": {
        "id": "wSfD5hJHW3M1"
      },
      "source": [
        "# perform one-hot encoding on the labels\n",
        "lb = LabelEncoder()\n",
        "labels_enc = lb.fit_transform(labels)\n",
        "labels_enc = np.array(one_hot(labels_enc, depth=3))"
      ],
      "execution_count": null,
      "outputs": []
    },
    {
      "cell_type": "code",
      "metadata": {
        "id": "9hvC26y7MRel"
      },
      "source": [
        "# training and evaluation split at 66:33\n",
        "train_x, eval_x, train_y, eval_y = train_test_split(train, labels_enc, stratify=labels_enc, \n",
        "                                                    test_size=0.33, random_state=1)"
      ],
      "execution_count": null,
      "outputs": []
    },
    {
      "cell_type": "code",
      "metadata": {
        "id": "LKY9its4M5Fc"
      },
      "source": [
        "train_x.shape, eval_x.shape, train_y.shape, eval_y.shape"
      ],
      "execution_count": null,
      "outputs": []
    },
    {
      "cell_type": "code",
      "metadata": {
        "id": "7LaipV3tW65e"
      },
      "source": [
        "# construct the training image generator for data augmentation\n",
        "aug = ImageDataGenerator(rotation_range=20, zoom_range=0.15, width_shift_range=0.2,\n",
        "                         height_shift_range=0.2, shear_range=0.15, horizontal_flip=True)"
      ],
      "execution_count": null,
      "outputs": []
    },
    {
      "cell_type": "markdown",
      "metadata": {
        "id": "5PRMSTL2OWrA"
      },
      "source": [
        "## Modelling"
      ]
    },
    {
      "cell_type": "markdown",
      "metadata": {
        "id": "8RDVWlf8Tcbc"
      },
      "source": [
        "#### Training"
      ]
    },
    {
      "cell_type": "code",
      "metadata": {
        "id": "RKvCqSW6yNRy"
      },
      "source": [
        "# define the input shape for the model\n",
        "input_tensor = Input(shape=(224, 224, 1))\n",
        "\n",
        "# add a convolution layer to convert the inputs to \n",
        "# 224x224x3 shape for the MobileNet model\n",
        "input_model= Conv2D(filters=3, kernel_size=3, \n",
        "                    padding='same', name=\"input_conv\")(input_tensor)\n",
        "\n",
        "# load the MobileNetV2 network, ensuring the head FC layer sets are left off\n",
        "base_model = MobileNetV2(weights=\"imagenet\", \n",
        "                         include_top=False,\n",
        "                         input_tensor=Input(shape=(224, 224, 3)))(input_model)\n",
        "\n",
        "# construct the head of the model that will be placed on top of the the base model\n",
        "head_model = AveragePooling2D(pool_size=(7, 7))(base_model)\n",
        "head_model = Flatten(name=\"flatten\")(head_model)\n",
        "head_model = Dense(128, activation=\"relu\")(head_model)\n",
        "head_model = Dropout(0.5)(head_model)\n",
        "head_model = Dense(3, activation=\"softmax\")(head_model)\n",
        "\n",
        "# place the head FC model on top of the base model \n",
        "# which will become the actual model that we will train\n",
        "model = Model(inputs=input_tensor, outputs=head_model)"
      ],
      "execution_count": null,
      "outputs": []
    },
    {
      "cell_type": "code",
      "metadata": {
        "id": "hpRoeYyBU5kc"
      },
      "source": [
        "# view the model architecture\n",
        "model.summary()"
      ],
      "execution_count": null,
      "outputs": []
    },
    {
      "cell_type": "code",
      "metadata": {
        "id": "idAJfWX-QQW_"
      },
      "source": [
        "# loop over all layers in the input & base model and freeze them so they will\n",
        "# not be updated during the first training process\n",
        "for layer in model.layers:\n",
        "\t# selecting layer by name\n",
        "    if layer.name in [\"input_conv\", \"mobilenetv2_1.00_224\"]:\n",
        "        layer.trainable = False"
      ],
      "execution_count": null,
      "outputs": []
    },
    {
      "cell_type": "code",
      "metadata": {
        "id": "yV6LSmuoePsw"
      },
      "source": [
        "# initialize the initial learning rate, number of epochs to train for,\n",
        "# and batch size\n",
        "INIT_LR = 1e-4\n",
        "EPOCHS = 100\n",
        "BS = 100\n",
        "\n",
        "# compile the model\n",
        "optimizer = Adam(lr=INIT_LR, decay=INIT_LR/EPOCHS)\n",
        "model.compile(loss=\"categorical_crossentropy\", optimizer=optimizer, metrics=\"accuracy\")"
      ],
      "execution_count": null,
      "outputs": []
    },
    {
      "cell_type": "code",
      "metadata": {
        "id": "X2d0BISpSQXN"
      },
      "source": [
        "# train the head of the network\n",
        "H = model.fit(aug.flow(train_x, train_y, batch_size=BS),\n",
        "              steps_per_epoch=len(train_x)//BS,\n",
        "              epochs=EPOCHS,\n",
        "              validation_data=(eval_x, eval_y),\n",
        "            #   callbacks=EarlyStopping(monitor=\"val_accuracy\", \n",
        "            #                           patience=4,\n",
        "            #                           restore_best_weights=True),\n",
        "              workers=512,\n",
        "              use_multiprocessing=True)"
      ],
      "execution_count": null,
      "outputs": []
    },
    {
      "cell_type": "markdown",
      "metadata": {
        "id": "TnXAPCegTfIz"
      },
      "source": [
        "#### Evaluation"
      ]
    },
    {
      "cell_type": "code",
      "metadata": {
        "id": "vmOnTMMGR4w1"
      },
      "source": [
        "train_pred_y = np.argmax(model.predict(train_x, batch_size=BS), axis=1)\n",
        "pred_y = np.argmax(model.predict(eval_x, batch_size=BS), axis=1)"
      ],
      "execution_count": null,
      "outputs": []
    },
    {
      "cell_type": "code",
      "metadata": {
        "id": "FWchXGoMCMfd"
      },
      "source": [
        "print(classification_report(eval_y.argmax(axis=1), pred_y, target_names=lb.classes_))"
      ],
      "execution_count": null,
      "outputs": []
    },
    {
      "cell_type": "code",
      "metadata": {
        "id": "lWZmYNkhSC91"
      },
      "source": [
        "print(\"Training Accuracy:\", accuracy_score(train_y.argmax(axis=1), train_pred_y).round(4) * 100)\n",
        "print(\"Testing Accuracy:\", accuracy_score(eval_y.argmax(axis=1), pred_y).round(4) * 100)"
      ],
      "execution_count": null,
      "outputs": []
    },
    {
      "cell_type": "code",
      "metadata": {
        "id": "2hADsdVkSVKB"
      },
      "source": [
        "print(\"Training ROC-AUC:\", multiclass_roc_auc_score(train_y.argmax(axis=1), train_pred_y))\n",
        "print(\"Testing ROC-AUC:\", multiclass_roc_auc_score(eval_y.argmax(axis=1), pred_y))"
      ],
      "execution_count": null,
      "outputs": []
    },
    {
      "cell_type": "code",
      "metadata": {
        "id": "OeanGEsLBU-M"
      },
      "source": [
        "# save the model, weights and environment variables\n",
        "model.save(\"/content/drive/MyDrive/Colab Data/Face Mask Dataset/model\")"
      ],
      "execution_count": null,
      "outputs": []
    },
    {
      "cell_type": "code",
      "metadata": {
        "id": "cnyNjVCbU4oB"
      },
      "source": [
        "multilabel_confusion_matrix(eval_y.argmax(axis=1), pred_y)"
      ],
      "execution_count": null,
      "outputs": []
    },
    {
      "cell_type": "markdown",
      "metadata": {
        "id": "6F-Wlay1ELEo"
      },
      "source": [
        "#### Testing"
      ]
    },
    {
      "cell_type": "code",
      "metadata": {
        "id": "865Rp6_iJcRr"
      },
      "source": [
        "# model = load_model(\"/content/drive/MyDrive/Colab Data/Face Mask Dataset/model\")"
      ],
      "execution_count": null,
      "outputs": []
    },
    {
      "cell_type": "code",
      "metadata": {
        "id": "qH_zXQoiJL9E"
      },
      "source": [
        "face = np.expand_dims(test[561], axis=0)\n",
        "array_to_img(test[561])"
      ],
      "execution_count": null,
      "outputs": []
    },
    {
      "cell_type": "code",
      "metadata": {
        "id": "q6s_o2xwJVcT"
      },
      "source": [
        "np.argmax(model.predict(face), axis=1)[0]"
      ],
      "execution_count": null,
      "outputs": []
    },
    {
      "cell_type": "markdown",
      "metadata": {
        "id": "OnRvbZdzENxA"
      },
      "source": [
        "#### Plotting"
      ]
    },
    {
      "cell_type": "code",
      "metadata": {
        "id": "3l5OZKDjYuZT"
      },
      "source": [
        "# plot the training loss and accuracy\n",
        "N = EPOCHS\n",
        "plt.figure(dpi=140)\n",
        "plt.plot(np.arange(0, N), H.history[\"loss\"], label=\"train_loss\")\n",
        "plt.plot(np.arange(0, N), H.history[\"val_loss\"], label=\"val_loss\")\n",
        "plt.plot(np.arange(0, N), H.history[\"accuracy\"], label=\"train_acc\")\n",
        "plt.plot(np.arange(0, N), H.history[\"val_accuracy\"], label=\"val_acc\")\n",
        "plt.title(\"Training Loss and Accuracy\")\n",
        "plt.xlabel(\"Epochs\")\n",
        "plt.ylabel(\"Loss/Accuracy\")\n",
        "plt.legend(loc=\"center\")\n",
        "plt.show()"
      ],
      "execution_count": null,
      "outputs": []
    }
  ]
}